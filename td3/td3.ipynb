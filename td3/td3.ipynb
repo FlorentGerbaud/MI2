{
 "cells": [
  {
   "cell_type": "markdown",
   "metadata": {},
   "source": [
    "![PNS](http://caillau.perso.math.cnrs.fr/logo-pns.png)\n",
    "## MAM3 - MI2\n",
    "# TD 3 - Espaces de suites\n",
    "\n",
    "[![Binder](https://mybinder.org/badge_logo.svg)](https://mybinder.org/v2/git/https%3A%2F%2Fgitlab.polytech.unice.fr%2FMAM%2Fmi2.git/master?urlpath=lab/tree/td3/td3.ipynb)\n",
    "\n",
    "Pour $1 \\leq p \\lt \\infty$ on définit $\\ell^p$ l'ensemble des suites\n",
    "réelles de puissance $p$-ième sommable, et $\\ell^\\infty$ l'ensemble des\n",
    "suites réelles bornées. (Les définitions et résultats qui suivent valent\n",
    "aussi pour des suites complexes.)\n",
    "\n",
    "## Exercice 1\n",
    "Montrer qu'on définit une norme sur $\\ell^p$ en posant\n",
    "\n",
    "$$ \\|(x_k)_k\\|_p = (\\sum_k |x_k|^p)^{1/p},\\quad 1 \\leq p \\lt \\infty, $$\n",
    "\n",
    "et\n",
    "\n",
    "$$ \\|(x_k)_k\\|_\\infty = \\sup_k |x_k|. $$\n",
    "\n",
    "## Exercice 2\n",
    "Soient $1 \\leq p \\lt q \\leq \\infty$. Montrer que\n",
    "$\\ell^p \\subsetneq \\ell^q$, avec injection continue.\n",
    "\n",
    "## Exercice 3\n",
    "Montrer que $(\\ell^p,\\|.\\|_p)$ est un Banach, $1 \\leq p\n",
    "\\leq \\infty$."
   ]
  }
 ],
 "metadata": {
  "kernelspec": {
   "display_name": "Python 3",
   "language": "python",
   "name": "python3"
  },
  "language_info": {
   "codemirror_mode": {
    "name": "ipython",
    "version": 3
   },
   "file_extension": ".py",
   "mimetype": "text/x-python",
   "name": "python",
   "nbconvert_exporter": "python",
   "pygments_lexer": "ipython3",
   "version": "3.6.9"
  }
 },
 "nbformat": 4,
 "nbformat_minor": 4
}
